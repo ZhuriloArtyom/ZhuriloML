{
 "cells": [
  {
   "cell_type": "code",
   "execution_count": 452,
   "id": "b63af28c",
   "metadata": {},
   "outputs": [
    {
     "name": "stderr",
     "output_type": "stream",
     "text": [
      "[nltk_data] Downloading package punkt to\n",
      "[nltk_data]     C:\\Users\\artzh\\AppData\\Roaming\\nltk_data...\n",
      "[nltk_data]   Package punkt is already up-to-date!\n",
      "[nltk_data] Downloading package wordnet to\n",
      "[nltk_data]     C:\\Users\\artzh\\AppData\\Roaming\\nltk_data...\n",
      "[nltk_data]   Package wordnet is already up-to-date!\n"
     ]
    }
   ],
   "source": [
    "import random\n",
    "import json\n",
    "import numpy as np\n",
    "from datetime import datetime\n",
    "import nltk\n",
    "nltk.download('punkt')\n",
    "nltk.download('wordnet')\n",
    "from nltk.stem import WordNetLemmatizer\n",
    "import pymorphy2\n",
    "morph = pymorphy2.MorphAnalyzer()\n",
    "from tensorflow.keras.models import Sequential\n",
    "from tensorflow.keras.layers import Dense, Activation, Dropout\n",
    "from tensorflow.keras.optimizers import SGD"
   ]
  },
  {
   "cell_type": "code",
   "execution_count": 453,
   "id": "df4b33d9",
   "metadata": {},
   "outputs": [],
   "source": [
    "name = \"Нейрон!\""
   ]
  },
  {
   "cell_type": "code",
   "execution_count": 454,
   "id": "2f4eee4a",
   "metadata": {},
   "outputs": [
    {
     "name": "stdout",
     "output_type": "stream",
     "text": [
      "{'intents': [{'tag': 'greeting', 'patterns': ['Привет', 'Здравствуй', 'Хай', 'Ку', 'Добрый день', 'Приветствую'], 'responses': ['Привет', 'Аллоха', 'Здравствуй, Незнакомец', 'Как я могут помочь тебе']}, {'tag': 'goodbye', 'patterns': ['Пока', 'До свидания', 'Давай', 'бб', 'До встречи', 'Всего доброго'], 'responses': ['До встречи', 'Увидимся!', 'Всего доброго', 'Бывай']}, {'tag': 'howfiilig', 'patterns': ['Как ты?', 'Как дела?', 'Как настроение?'], 'responses': ['Хорошо, а ты как?', 'Неплохо', 'Нормально, сегодня система сбоит']}, {'tag': 'age', 'patterns': ['Сколько тебе лет?', 'Сколько тебе, Нейрон?', 'Возраст?'], 'responses': ['Мне 18', 'Мне всего 18']}, {'tag': 'name', 'patterns': ['Как тебя зовут?', 'Как к Вам обращаться?', 'Кто ты?'], 'responses': ['Ты можешь называть меня *name', 'Я *name']}, {'tag': 'time', 'patterns': ['Сколько сейчас времени?', 'Который час?'], 'responses': [\"Сейчас *datetime.now().strftime('%X')\"]}, {'tag': 'date', 'patterns': ['Какой сегодня день?', 'Какое сегодня число?'], 'responses': [\"Сейчас *datetime.now().strftime('%x')\", \"Сегодня *datetime.now().strftime('%x')\"]}]}\n"
     ]
    }
   ],
   "source": [
    "lemmatizer = nltk.WordNetLemmatizer()\n",
    "\n",
    "intents = json.loads(open(\"intents.json\", encoding='utf-8').read())\n",
    "\n",
    "print(intents)"
   ]
  },
  {
   "cell_type": "code",
   "execution_count": 455,
   "id": "704830e7",
   "metadata": {},
   "outputs": [
    {
     "name": "stdout",
     "output_type": "stream",
     "text": [
      "{'intents': [{'tag': 'greeting', 'patterns': ['Привет', 'Здравствуй', 'Хай', 'Ку', 'Добрый день', 'Приветствую'], 'responses': ['Привет', 'Аллоха', 'Здравствуй, Незнакомец', 'Как я могут помочь тебе']}, {'tag': 'goodbye', 'patterns': ['Пока', 'До свидания', 'Давай', 'бб', 'До встречи', 'Всего доброго'], 'responses': ['До встречи', 'Увидимся!', 'Всего доброго', 'Бывай']}, {'tag': 'howfiilig', 'patterns': ['Как ты?', 'Как дела?', 'Как настроение?'], 'responses': ['Хорошо, а ты как?', 'Неплохо', 'Нормально, сегодня система сбоит']}, {'tag': 'age', 'patterns': ['Сколько тебе лет?', 'Сколько тебе, Нейрон?', 'Возраст?'], 'responses': ['Мне 18', 'Мне всего 18']}, {'tag': 'name', 'patterns': ['Как тебя зовут?', 'Как к Вам обращаться?', 'Кто ты?'], 'responses': ['Ты можешь называть меня *name', 'Я *name']}, {'tag': 'time', 'patterns': ['Сколько сейчас времени?', 'Который час?'], 'responses': [\"Сейчас *datetime.now().strftime('%X')\"]}, {'tag': 'date', 'patterns': ['Какой сегодня день?', 'Какое сегодня число?'], 'responses': [\"Сейчас *datetime.now().strftime('%x')\", \"Сегодня *datetime.now().strftime('%x')\"]}]}\n"
     ]
    }
   ],
   "source": [
    "words = []\n",
    "clasees = []\n",
    "documents = []\n",
    "ignore_letters = ['?', '!', '.', ',']\n",
    "print(intents)"
   ]
  },
  {
   "cell_type": "code",
   "execution_count": 456,
   "id": "fca38b00",
   "metadata": {},
   "outputs": [],
   "source": [
    "for intent in intents['intents']:\n",
    "    for pattern in intent['patterns']:\n",
    "        word_list = nltk.word_tokenize(pattern)\n",
    "        words.append(word_list)\n",
    "        documents.append(((word_list), intent[\"tag\"]))\n",
    "        if intent['tag'] not in clasees:\n",
    "            clasees.append(intent['tag'])\n",
    "           "
   ]
  },
  {
   "cell_type": "code",
   "execution_count": 457,
   "id": "386e1b1b",
   "metadata": {},
   "outputs": [
    {
     "name": "stdout",
     "output_type": "stream",
     "text": [
      "{'intents': [{'tag': 'greeting', 'patterns': ['Привет', 'Здравствуй', 'Хай', 'Ку', 'Добрый день', 'Приветствую'], 'responses': ['Привет', 'Аллоха', 'Здравствуй, Незнакомец', 'Как я могут помочь тебе']}, {'tag': 'goodbye', 'patterns': ['Пока', 'До свидания', 'Давай', 'бб', 'До встречи', 'Всего доброго'], 'responses': ['До встречи', 'Увидимся!', 'Всего доброго', 'Бывай']}, {'tag': 'howfiilig', 'patterns': ['Как ты?', 'Как дела?', 'Как настроение?'], 'responses': ['Хорошо, а ты как?', 'Неплохо', 'Нормально, сегодня система сбоит']}, {'tag': 'age', 'patterns': ['Сколько тебе лет?', 'Сколько тебе, Нейрон?', 'Возраст?'], 'responses': ['Мне 18', 'Мне всего 18']}, {'tag': 'name', 'patterns': ['Как тебя зовут?', 'Как к Вам обращаться?', 'Кто ты?'], 'responses': ['Ты можешь называть меня *name', 'Я *name']}, {'tag': 'time', 'patterns': ['Сколько сейчас времени?', 'Который час?'], 'responses': [\"Сейчас *datetime.now().strftime('%X')\"]}, {'tag': 'date', 'patterns': ['Какой сегодня день?', 'Какое сегодня число?'], 'responses': [\"Сейчас *datetime.now().strftime('%x')\", \"Сегодня *datetime.now().strftime('%x')\"]}]}\n"
     ]
    }
   ],
   "source": [
    "print(intents)"
   ]
  },
  {
   "cell_type": "code",
   "execution_count": 458,
   "id": "091f02c2",
   "metadata": {},
   "outputs": [
    {
     "name": "stdout",
     "output_type": "stream",
     "text": [
      "[',', '?', 'бб', 'весь', 'возраст', 'время', 'встреча', 'вы', 'год', 'давать', 'дело', 'день', 'до', 'добрый', 'звать', 'здравствуй', 'к', 'как', 'какой', 'который', 'кто', 'ку', 'настроение', 'нейрон', 'обращаться', 'пока', 'привет', 'приветствовать', 'свидание', 'сегодня', 'сейчас', 'сколько', 'ты', 'хай', 'час', 'число']\n"
     ]
    }
   ],
   "source": [
    "new_words = []\n",
    "for secuence in words:\n",
    "        for word in secuence:\n",
    "            new_words.append(morph.parse(word)[0])     \n",
    "words = [word.normal_form for word in new_words if word not in ignore_letters] # лематизируем все слова не входящие в список игноров\n",
    "words = sorted(set(words))\n",
    "clasees = sorted(set(clasees))\n",
    "print(words)"
   ]
  },
  {
   "cell_type": "code",
   "execution_count": 459,
   "id": "3329ac31",
   "metadata": {},
   "outputs": [],
   "source": [
    "training = []\n",
    "output_empty = [0] * len(clasees)"
   ]
  },
  {
   "cell_type": "code",
   "execution_count": 460,
   "id": "b3c9681e",
   "metadata": {},
   "outputs": [],
   "source": [
    "for document in documents:\n",
    "    bag = []\n",
    "    word_pattern = document[0]\n",
    "    word_pattern = [morph.parse(word.lower())[0].normal_form for word in word_pattern]\n",
    "    for word in words:\n",
    "        bag.append(1) if word in word_pattern else bag.append(0)\n",
    "    output_row = list(output_empty)\n",
    "    output_row[clasees.index(document[1])] = 1\n",
    "    training.append([bag, output_row])\n"
   ]
  },
  {
   "cell_type": "code",
   "execution_count": 461,
   "id": "dd43a639",
   "metadata": {},
   "outputs": [
    {
     "name": "stdout",
     "output_type": "stream",
     "text": [
      "[',', '?', 'бб', 'весь', 'возраст', 'время', 'встреча', 'вы', 'год', 'давать', 'дело', 'день', 'до', 'добрый', 'звать', 'здравствуй', 'к', 'как', 'какой', 'который', 'кто', 'ку', 'настроение', 'нейрон', 'обращаться', 'пока', 'привет', 'приветствовать', 'свидание', 'сегодня', 'сейчас', 'сколько', 'ты', 'хай', 'час', 'число']\n"
     ]
    }
   ],
   "source": [
    "print(words)"
   ]
  },
  {
   "cell_type": "code",
   "execution_count": 462,
   "id": "ff7189f0",
   "metadata": {},
   "outputs": [
    {
     "name": "stdout",
     "output_type": "stream",
     "text": [
      "[[[0, 0, 0, 0, 0, 0, 0, 0, 0, 0, 0, 0, 0, 0, 0, 0, 0, 0, 0, 0, 0, 0, 0, 0, 0, 0, 1, 0, 0, 0, 0, 0, 0, 0, 0, 0], [0, 0, 0, 1, 0, 0, 0]], [[0, 0, 0, 0, 0, 0, 0, 0, 0, 0, 0, 0, 0, 0, 0, 1, 0, 0, 0, 0, 0, 0, 0, 0, 0, 0, 0, 0, 0, 0, 0, 0, 0, 0, 0, 0], [0, 0, 0, 1, 0, 0, 0]], [[0, 0, 0, 0, 0, 0, 0, 0, 0, 0, 0, 0, 0, 0, 0, 0, 0, 0, 0, 0, 0, 0, 0, 0, 0, 0, 0, 0, 0, 0, 0, 0, 0, 1, 0, 0], [0, 0, 0, 1, 0, 0, 0]], [[0, 0, 0, 0, 0, 0, 0, 0, 0, 0, 0, 0, 0, 0, 0, 0, 0, 0, 0, 0, 0, 1, 0, 0, 0, 0, 0, 0, 0, 0, 0, 0, 0, 0, 0, 0], [0, 0, 0, 1, 0, 0, 0]], [[0, 0, 0, 0, 0, 0, 0, 0, 0, 0, 0, 1, 0, 1, 0, 0, 0, 0, 0, 0, 0, 0, 0, 0, 0, 0, 0, 0, 0, 0, 0, 0, 0, 0, 0, 0], [0, 0, 0, 1, 0, 0, 0]], [[0, 0, 0, 0, 0, 0, 0, 0, 0, 0, 0, 0, 0, 0, 0, 0, 0, 0, 0, 0, 0, 0, 0, 0, 0, 0, 0, 1, 0, 0, 0, 0, 0, 0, 0, 0], [0, 0, 0, 1, 0, 0, 0]], [[0, 0, 0, 0, 0, 0, 0, 0, 0, 0, 0, 0, 0, 0, 0, 0, 0, 0, 0, 0, 0, 0, 0, 0, 0, 1, 0, 0, 0, 0, 0, 0, 0, 0, 0, 0], [0, 0, 1, 0, 0, 0, 0]], [[0, 0, 0, 0, 0, 0, 0, 0, 0, 0, 0, 0, 1, 0, 0, 0, 0, 0, 0, 0, 0, 0, 0, 0, 0, 0, 0, 0, 1, 0, 0, 0, 0, 0, 0, 0], [0, 0, 1, 0, 0, 0, 0]], [[0, 0, 0, 0, 0, 0, 0, 0, 0, 1, 0, 0, 0, 0, 0, 0, 0, 0, 0, 0, 0, 0, 0, 0, 0, 0, 0, 0, 0, 0, 0, 0, 0, 0, 0, 0], [0, 0, 1, 0, 0, 0, 0]], [[0, 0, 1, 0, 0, 0, 0, 0, 0, 0, 0, 0, 0, 0, 0, 0, 0, 0, 0, 0, 0, 0, 0, 0, 0, 0, 0, 0, 0, 0, 0, 0, 0, 0, 0, 0], [0, 0, 1, 0, 0, 0, 0]], [[0, 0, 0, 0, 0, 0, 1, 0, 0, 0, 0, 0, 1, 0, 0, 0, 0, 0, 0, 0, 0, 0, 0, 0, 0, 0, 0, 0, 0, 0, 0, 0, 0, 0, 0, 0], [0, 0, 1, 0, 0, 0, 0]], [[0, 0, 0, 1, 0, 0, 0, 0, 0, 0, 0, 0, 0, 1, 0, 0, 0, 0, 0, 0, 0, 0, 0, 0, 0, 0, 0, 0, 0, 0, 0, 0, 0, 0, 0, 0], [0, 0, 1, 0, 0, 0, 0]], [[0, 1, 0, 0, 0, 0, 0, 0, 0, 0, 0, 0, 0, 0, 0, 0, 0, 1, 0, 0, 0, 0, 0, 0, 0, 0, 0, 0, 0, 0, 0, 0, 1, 0, 0, 0], [0, 0, 0, 0, 1, 0, 0]], [[0, 1, 0, 0, 0, 0, 0, 0, 0, 0, 1, 0, 0, 0, 0, 0, 0, 1, 0, 0, 0, 0, 0, 0, 0, 0, 0, 0, 0, 0, 0, 0, 0, 0, 0, 0], [0, 0, 0, 0, 1, 0, 0]], [[0, 1, 0, 0, 0, 0, 0, 0, 0, 0, 0, 0, 0, 0, 0, 0, 0, 1, 0, 0, 0, 0, 1, 0, 0, 0, 0, 0, 0, 0, 0, 0, 0, 0, 0, 0], [0, 0, 0, 0, 1, 0, 0]], [[0, 1, 0, 0, 0, 0, 0, 0, 1, 0, 0, 0, 0, 0, 0, 0, 0, 0, 0, 0, 0, 0, 0, 0, 0, 0, 0, 0, 0, 0, 0, 1, 1, 0, 0, 0], [1, 0, 0, 0, 0, 0, 0]], [[1, 1, 0, 0, 0, 0, 0, 0, 0, 0, 0, 0, 0, 0, 0, 0, 0, 0, 0, 0, 0, 0, 0, 1, 0, 0, 0, 0, 0, 0, 0, 1, 1, 0, 0, 0], [1, 0, 0, 0, 0, 0, 0]], [[0, 1, 0, 0, 1, 0, 0, 0, 0, 0, 0, 0, 0, 0, 0, 0, 0, 0, 0, 0, 0, 0, 0, 0, 0, 0, 0, 0, 0, 0, 0, 0, 0, 0, 0, 0], [1, 0, 0, 0, 0, 0, 0]], [[0, 1, 0, 0, 0, 0, 0, 0, 0, 0, 0, 0, 0, 0, 1, 0, 0, 1, 0, 0, 0, 0, 0, 0, 0, 0, 0, 0, 0, 0, 0, 0, 1, 0, 0, 0], [0, 0, 0, 0, 0, 1, 0]], [[0, 1, 0, 0, 0, 0, 0, 1, 0, 0, 0, 0, 0, 0, 0, 0, 1, 1, 0, 0, 0, 0, 0, 0, 1, 0, 0, 0, 0, 0, 0, 0, 0, 0, 0, 0], [0, 0, 0, 0, 0, 1, 0]], [[0, 1, 0, 0, 0, 0, 0, 0, 0, 0, 0, 0, 0, 0, 0, 0, 0, 0, 0, 0, 1, 0, 0, 0, 0, 0, 0, 0, 0, 0, 0, 0, 1, 0, 0, 0], [0, 0, 0, 0, 0, 1, 0]], [[0, 1, 0, 0, 0, 1, 0, 0, 0, 0, 0, 0, 0, 0, 0, 0, 0, 0, 0, 0, 0, 0, 0, 0, 0, 0, 0, 0, 0, 0, 1, 1, 0, 0, 0, 0], [0, 0, 0, 0, 0, 0, 1]], [[0, 1, 0, 0, 0, 0, 0, 0, 0, 0, 0, 0, 0, 0, 0, 0, 0, 0, 0, 1, 0, 0, 0, 0, 0, 0, 0, 0, 0, 0, 0, 0, 0, 0, 1, 0], [0, 0, 0, 0, 0, 0, 1]], [[0, 1, 0, 0, 0, 0, 0, 0, 0, 0, 0, 1, 0, 0, 0, 0, 0, 0, 1, 0, 0, 0, 0, 0, 0, 0, 0, 0, 0, 1, 0, 0, 0, 0, 0, 0], [0, 1, 0, 0, 0, 0, 0]], [[0, 1, 0, 0, 0, 0, 0, 0, 0, 0, 0, 0, 0, 0, 0, 0, 0, 0, 1, 0, 0, 0, 0, 0, 0, 0, 0, 0, 0, 1, 0, 0, 0, 0, 0, 1], [0, 1, 0, 0, 0, 0, 0]]]\n"
     ]
    }
   ],
   "source": [
    "print(training)"
   ]
  },
  {
   "cell_type": "code",
   "execution_count": 463,
   "id": "639bd71e",
   "metadata": {},
   "outputs": [
    {
     "name": "stderr",
     "output_type": "stream",
     "text": [
      "C:\\Users\\artzh\\AppData\\Local\\Temp/ipykernel_21772/2195589081.py:2: VisibleDeprecationWarning: Creating an ndarray from ragged nested sequences (which is a list-or-tuple of lists-or-tuples-or ndarrays with different lengths or shapes) is deprecated. If you meant to do this, you must specify 'dtype=object' when creating the ndarray.\n",
      "  training = np.array(training)\n"
     ]
    }
   ],
   "source": [
    "random.shuffle(training)\n",
    "training = np.array(training)"
   ]
  },
  {
   "cell_type": "code",
   "execution_count": 464,
   "id": "8ebe5503",
   "metadata": {},
   "outputs": [],
   "source": [
    "train_x = list(training[:, 0])\n",
    "train_y = list(training[:, 1])"
   ]
  },
  {
   "cell_type": "code",
   "execution_count": 465,
   "id": "db9cd257",
   "metadata": {},
   "outputs": [],
   "source": [
    "model = Sequential()\n",
    "model.add(Dense(128, input_shape=(len(train_x[0]),), activation='relu'))\n",
    "model.add(Dropout(0.5))\n",
    "model.add(Dense(64, activation='relu'))\n",
    "model.add(Dropout(0.5))\n",
    "model.add(Dense(len(train_y[0]), activation='softmax'))"
   ]
  },
  {
   "cell_type": "code",
   "execution_count": 466,
   "id": "bef5317e",
   "metadata": {},
   "outputs": [],
   "source": [
    "sgd = SGD(lr=0.01, decay=1e-6, momentum=0.9, nesterov=True)"
   ]
  },
  {
   "cell_type": "code",
   "execution_count": 467,
   "id": "cb08e11c",
   "metadata": {},
   "outputs": [],
   "source": [
    "model.compile(loss='categorical_crossentropy', optimizer=sgd, metrics=['accuracy'])"
   ]
  },
  {
   "cell_type": "code",
   "execution_count": 468,
   "id": "f3af7d2d",
   "metadata": {},
   "outputs": [
    {
     "name": "stdout",
     "output_type": "stream",
     "text": [
      "Epoch 1/200\n",
      "5/5 [==============================] - 0s 1ms/step - loss: 1.9306 - accuracy: 0.2800\n",
      "Epoch 2/200\n",
      "5/5 [==============================] - 0s 1ms/step - loss: 1.9213 - accuracy: 0.1600\n",
      "Epoch 3/200\n",
      "5/5 [==============================] - 0s 1ms/step - loss: 1.8986 - accuracy: 0.2000\n",
      "Epoch 4/200\n",
      "5/5 [==============================] - 0s 1ms/step - loss: 1.7808 - accuracy: 0.4400\n",
      "Epoch 5/200\n",
      "5/5 [==============================] - 0s 998us/step - loss: 1.7792 - accuracy: 0.3200\n",
      "Epoch 6/200\n",
      "5/5 [==============================] - 0s 1ms/step - loss: 1.8120 - accuracy: 0.2800\n",
      "Epoch 7/200\n",
      "5/5 [==============================] - 0s 997us/step - loss: 1.6529 - accuracy: 0.4800\n",
      "Epoch 8/200\n",
      "5/5 [==============================] - 0s 1ms/step - loss: 1.5408 - accuracy: 0.5600\n",
      "Epoch 9/200\n",
      "5/5 [==============================] - 0s 998us/step - loss: 1.5678 - accuracy: 0.4800\n",
      "Epoch 10/200\n",
      "5/5 [==============================] - 0s 1ms/step - loss: 1.5226 - accuracy: 0.4800\n",
      "Epoch 11/200\n",
      "5/5 [==============================] - 0s 997us/step - loss: 1.3302 - accuracy: 0.6800\n",
      "Epoch 12/200\n",
      "5/5 [==============================] - 0s 1ms/step - loss: 1.3418 - accuracy: 0.4000\n",
      "Epoch 13/200\n",
      "5/5 [==============================] - 0s 1ms/step - loss: 1.2737 - accuracy: 0.6000\n",
      "Epoch 14/200\n",
      "5/5 [==============================] - 0s 1ms/step - loss: 1.1006 - accuracy: 0.7200\n",
      "Epoch 15/200\n",
      "5/5 [==============================] - 0s 1ms/step - loss: 1.0982 - accuracy: 0.6400\n",
      "Epoch 16/200\n",
      "5/5 [==============================] - 0s 997us/step - loss: 1.0654 - accuracy: 0.6000\n",
      "Epoch 17/200\n",
      "5/5 [==============================] - 0s 1ms/step - loss: 0.9088 - accuracy: 0.8400\n",
      "Epoch 18/200\n",
      "5/5 [==============================] - 0s 997us/step - loss: 1.0360 - accuracy: 0.6800\n",
      "Epoch 19/200\n",
      "5/5 [==============================] - 0s 1ms/step - loss: 1.0280 - accuracy: 0.6800\n",
      "Epoch 20/200\n",
      "5/5 [==============================] - 0s 997us/step - loss: 0.8777 - accuracy: 0.6400\n",
      "Epoch 21/200\n",
      "5/5 [==============================] - 0s 1ms/step - loss: 0.7688 - accuracy: 0.7600\n",
      "Epoch 22/200\n",
      "5/5 [==============================] - 0s 997us/step - loss: 0.6623 - accuracy: 0.9200\n",
      "Epoch 23/200\n",
      "5/5 [==============================] - 0s 1ms/step - loss: 0.7047 - accuracy: 0.7200\n",
      "Epoch 24/200\n",
      "5/5 [==============================] - 0s 1ms/step - loss: 0.7199 - accuracy: 0.7200\n",
      "Epoch 25/200\n",
      "5/5 [==============================] - 0s 1ms/step - loss: 0.5491 - accuracy: 1.0000\n",
      "Epoch 26/200\n",
      "5/5 [==============================] - 0s 1ms/step - loss: 0.6094 - accuracy: 0.8000\n",
      "Epoch 27/200\n",
      "5/5 [==============================] - 0s 998us/step - loss: 0.6472 - accuracy: 0.8400\n",
      "Epoch 28/200\n",
      "5/5 [==============================] - 0s 1ms/step - loss: 0.6160 - accuracy: 0.7600\n",
      "Epoch 29/200\n",
      "5/5 [==============================] - 0s 997us/step - loss: 0.4613 - accuracy: 0.8800\n",
      "Epoch 30/200\n",
      "5/5 [==============================] - 0s 1ms/step - loss: 0.5342 - accuracy: 0.9600\n",
      "Epoch 31/200\n",
      "5/5 [==============================] - 0s 997us/step - loss: 0.4910 - accuracy: 0.8000\n",
      "Epoch 32/200\n",
      "5/5 [==============================] - 0s 2ms/step - loss: 0.3856 - accuracy: 0.8800\n",
      "Epoch 33/200\n",
      "5/5 [==============================] - 0s 997us/step - loss: 0.4961 - accuracy: 0.8400\n",
      "Epoch 34/200\n",
      "5/5 [==============================] - 0s 1ms/step - loss: 0.2719 - accuracy: 0.9200\n",
      "Epoch 35/200\n",
      "5/5 [==============================] - 0s 997us/step - loss: 0.4570 - accuracy: 0.8000\n",
      "Epoch 36/200\n",
      "5/5 [==============================] - 0s 997us/step - loss: 0.5338 - accuracy: 0.8000\n",
      "Epoch 37/200\n",
      "5/5 [==============================] - 0s 997us/step - loss: 0.4228 - accuracy: 0.8800\n",
      "Epoch 38/200\n",
      "5/5 [==============================] - 0s 1ms/step - loss: 0.3334 - accuracy: 0.9200\n",
      "Epoch 39/200\n",
      "5/5 [==============================] - 0s 2ms/step - loss: 0.3349 - accuracy: 0.9200\n",
      "Epoch 40/200\n",
      "5/5 [==============================] - 0s 1ms/step - loss: 0.2796 - accuracy: 0.9600\n",
      "Epoch 41/200\n",
      "5/5 [==============================] - 0s 1ms/step - loss: 0.3934 - accuracy: 0.8800\n",
      "Epoch 42/200\n",
      "5/5 [==============================] - 0s 1ms/step - loss: 0.2511 - accuracy: 0.9600\n",
      "Epoch 43/200\n",
      "5/5 [==============================] - 0s 1ms/step - loss: 0.3919 - accuracy: 0.8800\n",
      "Epoch 44/200\n",
      "5/5 [==============================] - 0s 1ms/step - loss: 0.2486 - accuracy: 0.9200\n",
      "Epoch 45/200\n",
      "5/5 [==============================] - 0s 2ms/step - loss: 0.2517 - accuracy: 0.9200\n",
      "Epoch 46/200\n",
      "5/5 [==============================] - 0s 2ms/step - loss: 0.2064 - accuracy: 0.9600\n",
      "Epoch 47/200\n",
      "5/5 [==============================] - 0s 1ms/step - loss: 0.1650 - accuracy: 0.9600\n",
      "Epoch 48/200\n",
      "5/5 [==============================] - 0s 1ms/step - loss: 0.3682 - accuracy: 0.8800\n",
      "Epoch 49/200\n",
      "5/5 [==============================] - 0s 1ms/step - loss: 0.2019 - accuracy: 0.9600\n",
      "Epoch 50/200\n",
      "5/5 [==============================] - 0s 1ms/step - loss: 0.1818 - accuracy: 1.0000\n",
      "Epoch 51/200\n",
      "5/5 [==============================] - 0s 997us/step - loss: 0.2422 - accuracy: 0.9200\n",
      "Epoch 52/200\n",
      "5/5 [==============================] - 0s 1ms/step - loss: 0.3173 - accuracy: 0.8800\n",
      "Epoch 53/200\n",
      "5/5 [==============================] - 0s 1ms/step - loss: 0.1958 - accuracy: 0.9200\n",
      "Epoch 54/200\n",
      "5/5 [==============================] - 0s 1ms/step - loss: 0.1224 - accuracy: 1.0000\n",
      "Epoch 55/200\n",
      "5/5 [==============================] - 0s 1ms/step - loss: 0.1527 - accuracy: 0.9600\n",
      "Epoch 56/200\n",
      "5/5 [==============================] - 0s 1ms/step - loss: 0.2863 - accuracy: 0.8800\n",
      "Epoch 57/200\n",
      "5/5 [==============================] - 0s 997us/step - loss: 0.1795 - accuracy: 0.9600\n",
      "Epoch 58/200\n",
      "5/5 [==============================] - 0s 1ms/step - loss: 0.2255 - accuracy: 0.9600\n",
      "Epoch 59/200\n",
      "5/5 [==============================] - 0s 748us/step - loss: 0.2702 - accuracy: 0.9200\n",
      "Epoch 60/200\n",
      "5/5 [==============================] - 0s 749us/step - loss: 0.1954 - accuracy: 0.9600\n",
      "Epoch 61/200\n",
      "5/5 [==============================] - 0s 1ms/step - loss: 0.1754 - accuracy: 0.9600\n",
      "Epoch 62/200\n",
      "5/5 [==============================] - 0s 748us/step - loss: 0.2458 - accuracy: 0.9600\n",
      "Epoch 63/200\n",
      "5/5 [==============================] - 0s 997us/step - loss: 0.1969 - accuracy: 0.9600\n",
      "Epoch 64/200\n",
      "5/5 [==============================] - 0s 997us/step - loss: 0.1449 - accuracy: 0.9600\n",
      "Epoch 65/200\n",
      "5/5 [==============================] - 0s 1ms/step - loss: 0.1855 - accuracy: 0.9200\n",
      "Epoch 66/200\n",
      "5/5 [==============================] - 0s 997us/step - loss: 0.2317 - accuracy: 0.9200\n",
      "Epoch 67/200\n",
      "5/5 [==============================] - 0s 1ms/step - loss: 0.0515 - accuracy: 1.0000\n",
      "Epoch 68/200\n",
      "5/5 [==============================] - 0s 1ms/step - loss: 0.1855 - accuracy: 0.9200\n",
      "Epoch 69/200\n",
      "5/5 [==============================] - 0s 1ms/step - loss: 0.1292 - accuracy: 1.0000\n",
      "Epoch 70/200\n",
      "5/5 [==============================] - 0s 997us/step - loss: 0.1439 - accuracy: 0.9600\n",
      "Epoch 71/200\n",
      "5/5 [==============================] - 0s 997us/step - loss: 0.1382 - accuracy: 0.9200\n",
      "Epoch 72/200\n",
      "5/5 [==============================] - 0s 1ms/step - loss: 0.2229 - accuracy: 0.9200\n",
      "Epoch 73/200\n",
      "5/5 [==============================] - 0s 1ms/step - loss: 0.0882 - accuracy: 1.0000\n",
      "Epoch 74/200\n",
      "5/5 [==============================] - 0s 997us/step - loss: 0.1442 - accuracy: 0.9600\n",
      "Epoch 75/200\n",
      "5/5 [==============================] - 0s 990us/step - loss: 0.1151 - accuracy: 0.9600\n",
      "Epoch 76/200\n",
      "5/5 [==============================] - 0s 990us/step - loss: 0.1363 - accuracy: 0.9600\n",
      "Epoch 77/200\n",
      "5/5 [==============================] - 0s 997us/step - loss: 0.0842 - accuracy: 1.0000\n",
      "Epoch 78/200\n",
      "5/5 [==============================] - 0s 991us/step - loss: 0.2548 - accuracy: 0.9600\n",
      "Epoch 79/200\n",
      "5/5 [==============================] - 0s 997us/step - loss: 0.0255 - accuracy: 1.0000\n",
      "Epoch 80/200\n",
      "5/5 [==============================] - 0s 1ms/step - loss: 0.1776 - accuracy: 0.9600\n",
      "Epoch 81/200\n",
      "5/5 [==============================] - 0s 1ms/step - loss: 0.0741 - accuracy: 1.0000\n",
      "Epoch 82/200\n",
      "5/5 [==============================] - 0s 1ms/step - loss: 0.0686 - accuracy: 1.0000\n",
      "Epoch 83/200\n",
      "5/5 [==============================] - 0s 741us/step - loss: 0.1033 - accuracy: 1.0000\n",
      "Epoch 84/200\n"
     ]
    },
    {
     "name": "stdout",
     "output_type": "stream",
     "text": [
      "5/5 [==============================] - 0s 1ms/step - loss: 0.1104 - accuracy: 0.9600\n",
      "Epoch 85/200\n",
      "5/5 [==============================] - 0s 1ms/step - loss: 0.1577 - accuracy: 0.9600\n",
      "Epoch 86/200\n",
      "5/5 [==============================] - 0s 997us/step - loss: 0.0529 - accuracy: 1.0000\n",
      "Epoch 87/200\n",
      "5/5 [==============================] - 0s 753us/step - loss: 0.0649 - accuracy: 1.0000\n",
      "Epoch 88/200\n",
      "5/5 [==============================] - 0s 1ms/step - loss: 0.1318 - accuracy: 0.9600\n",
      "Epoch 89/200\n",
      "5/5 [==============================] - 0s 748us/step - loss: 0.1296 - accuracy: 0.9600\n",
      "Epoch 90/200\n",
      "5/5 [==============================] - 0s 997us/step - loss: 0.1212 - accuracy: 0.9600\n",
      "Epoch 91/200\n",
      "5/5 [==============================] - 0s 992us/step - loss: 0.0724 - accuracy: 1.0000\n",
      "Epoch 92/200\n",
      "5/5 [==============================] - 0s 1000us/step - loss: 0.0744 - accuracy: 0.9600\n",
      "Epoch 93/200\n",
      "5/5 [==============================] - 0s 998us/step - loss: 0.0509 - accuracy: 1.0000\n",
      "Epoch 94/200\n",
      "5/5 [==============================] - 0s 997us/step - loss: 0.1369 - accuracy: 0.9600\n",
      "Epoch 95/200\n",
      "5/5 [==============================] - 0s 998us/step - loss: 0.0476 - accuracy: 1.0000\n",
      "Epoch 96/200\n",
      "5/5 [==============================] - 0s 1ms/step - loss: 0.0418 - accuracy: 1.0000\n",
      "Epoch 97/200\n",
      "5/5 [==============================] - 0s 1ms/step - loss: 0.0543 - accuracy: 1.0000\n",
      "Epoch 98/200\n",
      "5/5 [==============================] - 0s 1ms/step - loss: 0.0599 - accuracy: 1.0000\n",
      "Epoch 99/200\n",
      "5/5 [==============================] - 0s 753us/step - loss: 0.0574 - accuracy: 1.0000\n",
      "Epoch 100/200\n",
      "5/5 [==============================] - 0s 1ms/step - loss: 0.1701 - accuracy: 0.9600\n",
      "Epoch 101/200\n",
      "5/5 [==============================] - 0s 990us/step - loss: 0.0960 - accuracy: 1.0000\n",
      "Epoch 102/200\n",
      "5/5 [==============================] - 0s 991us/step - loss: 0.1002 - accuracy: 0.9600\n",
      "Epoch 103/200\n",
      "5/5 [==============================] - 0s 997us/step - loss: 0.0431 - accuracy: 1.0000\n",
      "Epoch 104/200\n",
      "5/5 [==============================] - 0s 997us/step - loss: 0.0892 - accuracy: 0.9600\n",
      "Epoch 105/200\n",
      "5/5 [==============================] - 0s 998us/step - loss: 0.0699 - accuracy: 1.0000\n",
      "Epoch 106/200\n",
      "5/5 [==============================] - 0s 991us/step - loss: 0.0573 - accuracy: 1.0000\n",
      "Epoch 107/200\n",
      "5/5 [==============================] - 0s 993us/step - loss: 0.0613 - accuracy: 0.9600\n",
      "Epoch 108/200\n",
      "5/5 [==============================] - 0s 997us/step - loss: 0.0676 - accuracy: 0.9600\n",
      "Epoch 109/200\n",
      "5/5 [==============================] - 0s 1ms/step - loss: 0.0755 - accuracy: 0.9600\n",
      "Epoch 110/200\n",
      "5/5 [==============================] - 0s 997us/step - loss: 0.0262 - accuracy: 1.0000\n",
      "Epoch 111/200\n",
      "5/5 [==============================] - 0s 998us/step - loss: 0.0435 - accuracy: 1.0000\n",
      "Epoch 112/200\n",
      "5/5 [==============================] - 0s 1ms/step - loss: 0.1322 - accuracy: 0.9600\n",
      "Epoch 113/200\n",
      "5/5 [==============================] - 0s 997us/step - loss: 0.0279 - accuracy: 1.0000\n",
      "Epoch 114/200\n",
      "5/5 [==============================] - 0s 997us/step - loss: 0.0460 - accuracy: 1.0000\n",
      "Epoch 115/200\n",
      "5/5 [==============================] - 0s 1ms/step - loss: 0.0218 - accuracy: 1.0000\n",
      "Epoch 116/200\n",
      "5/5 [==============================] - 0s 2ms/step - loss: 0.0232 - accuracy: 1.0000\n",
      "Epoch 117/200\n",
      "5/5 [==============================] - 0s 1ms/step - loss: 0.0712 - accuracy: 0.9600\n",
      "Epoch 118/200\n",
      "5/5 [==============================] - 0s 1ms/step - loss: 0.0264 - accuracy: 1.0000\n",
      "Epoch 119/200\n",
      "5/5 [==============================] - 0s 924us/step - loss: 0.0832 - accuracy: 1.0000\n",
      "Epoch 120/200\n",
      "5/5 [==============================] - 0s 992us/step - loss: 0.1218 - accuracy: 1.0000\n",
      "Epoch 121/200\n",
      "5/5 [==============================] - 0s 1ms/step - loss: 0.0723 - accuracy: 1.0000\n",
      "Epoch 122/200\n",
      "5/5 [==============================] - 0s 998us/step - loss: 0.1342 - accuracy: 1.0000\n",
      "Epoch 123/200\n",
      "5/5 [==============================] - 0s 1ms/step - loss: 0.0466 - accuracy: 1.0000\n",
      "Epoch 124/200\n",
      "5/5 [==============================] - 0s 833us/step - loss: 0.0525 - accuracy: 1.0000\n",
      "Epoch 125/200\n",
      "5/5 [==============================] - 0s 1ms/step - loss: 0.0197 - accuracy: 1.0000\n",
      "Epoch 126/200\n",
      "5/5 [==============================] - 0s 1ms/step - loss: 0.0233 - accuracy: 1.0000\n",
      "Epoch 127/200\n",
      "5/5 [==============================] - 0s 997us/step - loss: 0.0574 - accuracy: 1.0000\n",
      "Epoch 128/200\n",
      "5/5 [==============================] - 0s 1ms/step - loss: 0.0163 - accuracy: 1.0000\n",
      "Epoch 129/200\n",
      "5/5 [==============================] - 0s 1ms/step - loss: 0.1653 - accuracy: 0.9600\n",
      "Epoch 130/200\n",
      "5/5 [==============================] - 0s 1ms/step - loss: 0.0329 - accuracy: 1.0000\n",
      "Epoch 131/200\n",
      "5/5 [==============================] - 0s 993us/step - loss: 0.0092 - accuracy: 1.0000\n",
      "Epoch 132/200\n",
      "5/5 [==============================] - 0s 1ms/step - loss: 0.0643 - accuracy: 1.0000\n",
      "Epoch 133/200\n",
      "5/5 [==============================] - 0s 1ms/step - loss: 0.0154 - accuracy: 1.0000\n",
      "Epoch 134/200\n",
      "5/5 [==============================] - 0s 1ms/step - loss: 0.0203 - accuracy: 1.0000\n",
      "Epoch 135/200\n",
      "5/5 [==============================] - 0s 748us/step - loss: 0.0435 - accuracy: 1.0000\n",
      "Epoch 136/200\n",
      "5/5 [==============================] - 0s 1ms/step - loss: 0.0317 - accuracy: 1.0000\n",
      "Epoch 137/200\n",
      "5/5 [==============================] - 0s 997us/step - loss: 0.0655 - accuracy: 1.0000\n",
      "Epoch 138/200\n",
      "5/5 [==============================] - 0s 1ms/step - loss: 0.0628 - accuracy: 0.9600\n",
      "Epoch 139/200\n",
      "5/5 [==============================] - 0s 997us/step - loss: 0.0234 - accuracy: 1.0000\n",
      "Epoch 140/200\n",
      "5/5 [==============================] - 0s 997us/step - loss: 0.1481 - accuracy: 0.9600\n",
      "Epoch 141/200\n",
      "5/5 [==============================] - 0s 1ms/step - loss: 0.0176 - accuracy: 1.0000\n",
      "Epoch 142/200\n",
      "5/5 [==============================] - 0s 1ms/step - loss: 0.0413 - accuracy: 1.0000\n",
      "Epoch 143/200\n",
      "5/5 [==============================] - 0s 1ms/step - loss: 0.0197 - accuracy: 1.0000\n",
      "Epoch 144/200\n",
      "5/5 [==============================] - 0s 1ms/step - loss: 0.0417 - accuracy: 0.9600\n",
      "Epoch 145/200\n",
      "5/5 [==============================] - 0s 1ms/step - loss: 0.0331 - accuracy: 1.0000\n",
      "Epoch 146/200\n",
      "5/5 [==============================] - 0s 1ms/step - loss: 0.0175 - accuracy: 1.0000\n",
      "Epoch 147/200\n",
      "5/5 [==============================] - 0s 1ms/step - loss: 0.0139 - accuracy: 1.0000\n",
      "Epoch 148/200\n",
      "5/5 [==============================] - 0s 1ms/step - loss: 0.0240 - accuracy: 1.0000\n",
      "Epoch 149/200\n",
      "5/5 [==============================] - 0s 1ms/step - loss: 0.0520 - accuracy: 1.0000\n",
      "Epoch 150/200\n",
      "5/5 [==============================] - 0s 997us/step - loss: 0.0257 - accuracy: 1.0000\n",
      "Epoch 151/200\n",
      "5/5 [==============================] - 0s 998us/step - loss: 0.0392 - accuracy: 1.0000\n",
      "Epoch 152/200\n",
      "5/5 [==============================] - 0s 997us/step - loss: 0.0162 - accuracy: 1.0000\n",
      "Epoch 153/200\n",
      "5/5 [==============================] - 0s 997us/step - loss: 0.0101 - accuracy: 1.0000\n",
      "Epoch 154/200\n",
      "5/5 [==============================] - 0s 1ms/step - loss: 0.0403 - accuracy: 1.0000\n",
      "Epoch 155/200\n",
      "5/5 [==============================] - 0s 1ms/step - loss: 0.0234 - accuracy: 1.0000\n",
      "Epoch 156/200\n",
      "5/5 [==============================] - 0s 996us/step - loss: 0.0173 - accuracy: 1.0000\n",
      "Epoch 157/200\n",
      "5/5 [==============================] - 0s 997us/step - loss: 0.0424 - accuracy: 1.0000\n",
      "Epoch 158/200\n",
      "5/5 [==============================] - 0s 991us/step - loss: 0.0053 - accuracy: 1.0000\n",
      "Epoch 159/200\n",
      "5/5 [==============================] - 0s 1ms/step - loss: 0.0317 - accuracy: 1.0000\n",
      "Epoch 160/200\n",
      "5/5 [==============================] - 0s 748us/step - loss: 0.0683 - accuracy: 1.0000\n",
      "Epoch 161/200\n",
      "5/5 [==============================] - 0s 997us/step - loss: 0.0635 - accuracy: 0.9600\n",
      "Epoch 162/200\n",
      "5/5 [==============================] - 0s 997us/step - loss: 0.0114 - accuracy: 1.0000\n",
      "Epoch 163/200\n",
      "5/5 [==============================] - 0s 997us/step - loss: 0.0201 - accuracy: 1.0000\n",
      "Epoch 164/200\n",
      "5/5 [==============================] - 0s 992us/step - loss: 0.0046 - accuracy: 1.0000\n",
      "Epoch 165/200\n",
      "5/5 [==============================] - 0s 748us/step - loss: 0.0081 - accuracy: 1.0000\n",
      "Epoch 166/200\n"
     ]
    },
    {
     "name": "stdout",
     "output_type": "stream",
     "text": [
      "5/5 [==============================] - 0s 998us/step - loss: 0.0126 - accuracy: 1.0000\n",
      "Epoch 167/200\n",
      "5/5 [==============================] - 0s 998us/step - loss: 0.0498 - accuracy: 1.0000\n",
      "Epoch 168/200\n",
      "5/5 [==============================] - 0s 748us/step - loss: 0.0522 - accuracy: 1.0000\n",
      "Epoch 169/200\n",
      "5/5 [==============================] - 0s 1ms/step - loss: 0.0140 - accuracy: 1.0000\n",
      "Epoch 170/200\n",
      "5/5 [==============================] - 0s 991us/step - loss: 0.0375 - accuracy: 1.0000\n",
      "Epoch 171/200\n",
      "5/5 [==============================] - 0s 1ms/step - loss: 0.1279 - accuracy: 0.9200\n",
      "Epoch 172/200\n",
      "5/5 [==============================] - 0s 997us/step - loss: 0.0308 - accuracy: 1.0000\n",
      "Epoch 173/200\n",
      "5/5 [==============================] - 0s 997us/step - loss: 0.0401 - accuracy: 1.0000\n",
      "Epoch 174/200\n",
      "5/5 [==============================] - 0s 997us/step - loss: 0.0200 - accuracy: 1.0000\n",
      "Epoch 175/200\n",
      "5/5 [==============================] - 0s 992us/step - loss: 0.0433 - accuracy: 1.0000\n",
      "Epoch 176/200\n",
      "5/5 [==============================] - 0s 1ms/step - loss: 0.0252 - accuracy: 1.0000\n",
      "Epoch 177/200\n",
      "5/5 [==============================] - 0s 1ms/step - loss: 0.0429 - accuracy: 0.9600\n",
      "Epoch 178/200\n",
      "5/5 [==============================] - 0s 998us/step - loss: 0.0144 - accuracy: 1.0000\n",
      "Epoch 179/200\n",
      "5/5 [==============================] - 0s 1ms/step - loss: 0.0688 - accuracy: 0.9600\n",
      "Epoch 180/200\n",
      "5/5 [==============================] - 0s 1ms/step - loss: 0.0195 - accuracy: 1.0000\n",
      "Epoch 181/200\n",
      "5/5 [==============================] - 0s 1ms/step - loss: 0.0261 - accuracy: 1.0000\n",
      "Epoch 182/200\n",
      "5/5 [==============================] - 0s 1ms/step - loss: 0.0276 - accuracy: 1.0000\n",
      "Epoch 183/200\n",
      "5/5 [==============================] - 0s 997us/step - loss: 0.0123 - accuracy: 1.0000\n",
      "Epoch 184/200\n",
      "5/5 [==============================] - 0s 1ms/step - loss: 0.0287 - accuracy: 1.0000\n",
      "Epoch 185/200\n",
      "5/5 [==============================] - 0s 1ms/step - loss: 0.0461 - accuracy: 1.0000\n",
      "Epoch 186/200\n",
      "5/5 [==============================] - 0s 998us/step - loss: 0.1503 - accuracy: 0.9600\n",
      "Epoch 187/200\n",
      "5/5 [==============================] - 0s 997us/step - loss: 0.0342 - accuracy: 1.0000\n",
      "Epoch 188/200\n",
      "5/5 [==============================] - 0s 1ms/step - loss: 0.1247 - accuracy: 0.9600\n",
      "Epoch 189/200\n",
      "5/5 [==============================] - 0s 992us/step - loss: 0.0261 - accuracy: 1.0000\n",
      "Epoch 190/200\n",
      "5/5 [==============================] - 0s 1ms/step - loss: 0.0205 - accuracy: 1.0000\n",
      "Epoch 191/200\n",
      "5/5 [==============================] - 0s 756us/step - loss: 0.0857 - accuracy: 0.9600\n",
      "Epoch 192/200\n",
      "5/5 [==============================] - 0s 997us/step - loss: 0.0684 - accuracy: 0.9600\n",
      "Epoch 193/200\n",
      "5/5 [==============================] - 0s 1ms/step - loss: 0.0084 - accuracy: 1.0000\n",
      "Epoch 194/200\n",
      "5/5 [==============================] - 0s 990us/step - loss: 0.0351 - accuracy: 1.0000\n",
      "Epoch 195/200\n",
      "5/5 [==============================] - 0s 1ms/step - loss: 0.0200 - accuracy: 1.0000\n",
      "Epoch 196/200\n",
      "5/5 [==============================] - 0s 748us/step - loss: 0.0537 - accuracy: 0.9600\n",
      "Epoch 197/200\n",
      "5/5 [==============================] - 0s 1ms/step - loss: 0.0521 - accuracy: 1.0000\n",
      "Epoch 198/200\n",
      "5/5 [==============================] - 0s 997us/step - loss: 0.0420 - accuracy: 1.0000\n",
      "Epoch 199/200\n",
      "5/5 [==============================] - 0s 1ms/step - loss: 0.0386 - accuracy: 1.0000\n",
      "Epoch 200/200\n",
      "5/5 [==============================] - 0s 1ms/step - loss: 0.0152 - accuracy: 1.0000\n"
     ]
    }
   ],
   "source": [
    "hist = model.fit(np.array(train_x), np.array(train_y), epochs=200, batch_size=5, verbose=1)"
   ]
  },
  {
   "cell_type": "code",
   "execution_count": 469,
   "id": "4c987279",
   "metadata": {},
   "outputs": [],
   "source": [
    "def clean_up(sentence):\n",
    "    sentence_words = nltk.word_tokenize(sentence)\n",
    "    new_words = []\n",
    "    for secuence in sentence_words:\n",
    "        if secuence is list:\n",
    "            for word in secuense:\n",
    "                new_words.append(morph.parse(word)[0])\n",
    "        else:\n",
    "            new_words.append(morph.parse(secuence)[0])\n",
    "    sentence_words = [word.normal_form for word in new_words]\n",
    "    return sentence_words"
   ]
  },
  {
   "cell_type": "code",
   "execution_count": 470,
   "id": "b24893e6",
   "metadata": {},
   "outputs": [],
   "source": [
    "def bag_of_words(sentence):\n",
    "    sentence_words = clean_up(sentence)\n",
    "    bag = [0] * len(words)\n",
    "    for w in sentence_words:\n",
    "        for i, word in enumerate(words):\n",
    "            if word == w:\n",
    "                bag[i] = 1\n",
    "    return np.array(bag)"
   ]
  },
  {
   "cell_type": "code",
   "execution_count": 471,
   "id": "c9732404",
   "metadata": {},
   "outputs": [],
   "source": [
    "def predict_class(sentense):\n",
    "    bow=bag_of_words(sentense)\n",
    "    print(bow)\n",
    "    result = model.predict(np.array([bow]))[0]\n",
    "    ERROR = 0.15\n",
    "    result = [[i, r] for i, r in enumerate(result) if r > ERROR]\n",
    "    \n",
    "    result.sort(key=lambda x: x[1], reverse = True)\n",
    "    return_list = []\n",
    "    for r in result:\n",
    "        return_list.append({'intent':clasees[r[0]], 'probability':str(r[1])})\n",
    "    return return_list"
   ]
  },
  {
   "cell_type": "code",
   "execution_count": 472,
   "id": "22d12f2a",
   "metadata": {},
   "outputs": [],
   "source": [
    "def get_response(intents_list, intents_json):\n",
    "    tag = intents_list[0]['intent']\n",
    "    list_of_intents = intents_json['intents']\n",
    "    for i in list_of_intents:\n",
    "        if i['tag'] == tag:\n",
    "            resp = random.choice(i[\"responses\"])\n",
    "            if resp.find(\"*\") < 0:\n",
    "                return resp\n",
    "            else:\n",
    "                g = eval(resp.split(\"*\")[1])\n",
    "                return (resp.split(\"*\")[0] + eval(resp.split(\"*\")[1]) )"
   ]
  },
  {
   "cell_type": "code",
   "execution_count": null,
   "id": "92fd2365",
   "metadata": {
    "scrolled": false
   },
   "outputs": [
    {
     "name": "stdout",
     "output_type": "stream",
     "text": [
      "Demo ChatBot\n",
      "првт\n",
      "[0 0 0 0 0 0 0 0 0 0 0 0 0 0 0 0 0 0 0 0 0 0 0 0 0 0 0 0 0 0 0 0 0 0 0 0]\n",
      "1/1 [==============================] - 0s 35ms/step\n",
      "Как я могут помочь тебе\n",
      "ты как\n",
      "[0 0 0 0 0 0 0 0 0 0 0 0 0 0 0 0 0 1 0 0 0 0 0 0 0 0 0 0 0 0 0 0 1 0 0 0]\n",
      "1/1 [==============================] - 0s 11ms/step\n",
      "Нормально, сегодня система сбоит\n",
      "день\n",
      "[0 0 0 0 0 0 0 0 0 0 0 1 0 0 0 0 0 0 0 0 0 0 0 0 0 0 0 0 0 0 0 0 0 0 0 0]\n",
      "1/1 [==============================] - 0s 13ms/step\n",
      "Здравствуй, Незнакомец\n",
      "сегодня\n",
      "[0 0 0 0 0 0 0 0 0 0 0 0 0 0 0 0 0 0 0 0 0 0 0 0 0 0 0 0 0 1 0 0 0 0 0 0]\n",
      "1/1 [==============================] - 0s 12ms/step\n",
      "Сегодня 06/13/22\n"
     ]
    }
   ],
   "source": [
    "print(\"Demo ChatBot\")\n",
    "while True:\n",
    "    message = input()\n",
    "    ints = predict_class(message)\n",
    "    result = get_response(ints, intents)\n",
    "    print(result)"
   ]
  },
  {
   "cell_type": "code",
   "execution_count": null,
   "id": "b99f33d6",
   "metadata": {},
   "outputs": [],
   "source": []
  },
  {
   "cell_type": "code",
   "execution_count": null,
   "id": "643bd4a8",
   "metadata": {},
   "outputs": [],
   "source": []
  },
  {
   "cell_type": "code",
   "execution_count": null,
   "id": "3f7b7c68",
   "metadata": {},
   "outputs": [],
   "source": []
  }
 ],
 "metadata": {
  "kernelspec": {
   "display_name": "Python 3 (ipykernel)",
   "language": "python",
   "name": "python3"
  },
  "language_info": {
   "codemirror_mode": {
    "name": "ipython",
    "version": 3
   },
   "file_extension": ".py",
   "mimetype": "text/x-python",
   "name": "python",
   "nbconvert_exporter": "python",
   "pygments_lexer": "ipython3",
   "version": "3.9.7"
  }
 },
 "nbformat": 4,
 "nbformat_minor": 5
}
